{
 "cells": [
  {
   "cell_type": "markdown",
   "metadata": {},
   "source": [
    "# Random line, random pic\n",
    "\n",
    "MVP product for the management slide generator!"
   ]
  },
  {
   "cell_type": "code",
   "execution_count": null,
   "metadata": {},
   "outputs": [],
   "source": [
    "import numpy as np\n",
    "import os\n",
    "\n",
    "from IPython.display import Image"
   ]
  },
  {
   "cell_type": "code",
   "execution_count": null,
   "metadata": {},
   "outputs": [],
   "source": [
    "# load credentials for image APIs\n",
    "from dotenv import load_dotenv\n",
    "load_dotenv()"
   ]
  },
  {
   "cell_type": "markdown",
   "metadata": {},
   "source": [
    "## Get random sentence\n",
    "\n",
    "A matter of reading and parsing the text data"
   ]
  },
  {
   "cell_type": "code",
   "execution_count": null,
   "metadata": {},
   "outputs": [],
   "source": [
    "with open('../data/cipsum.txt','r') as f:\n",
    "    corpus = f.read()"
   ]
  },
  {
   "cell_type": "code",
   "execution_count": null,
   "metadata": {},
   "outputs": [],
   "source": [
    "# remove newlines, split sentences and strip leading and trailing whitespaces\n",
    "lines = [line.strip() for line in corpus.replace(\"\\n\", \"\").split('.') if line is not '']"
   ]
  },
  {
   "cell_type": "code",
   "execution_count": null,
   "metadata": {},
   "outputs": [],
   "source": [
    "np.random.choice(lines)"
   ]
  },
  {
   "cell_type": "markdown",
   "metadata": {},
   "source": [
    "## Get random pic\n",
    "\n",
    "APIs we could use:\n",
    "* Unsplash. Stock images. Both random and based on keyword search.\n",
    "* http://lorempixel.com/. For placeholder images\n",
    "* https://loremflickr.com/\n",
    "* http://www.splashbase.co/api"
   ]
  },
  {
   "cell_type": "markdown",
   "metadata": {},
   "source": [
    "### Unsplash\n",
    "\n",
    "Let's try this one first using [`python-unsplash`](https://github.com/yakupadakli/python-unsplash) library. First set credentials.\n",
    "\n",
    "API documentation of Unsplash can be found [here](https://unsplash.com/documentation)"
   ]
  },
  {
   "cell_type": "code",
   "execution_count": null,
   "metadata": {},
   "outputs": [],
   "source": [
    "from unsplash.api import Api\n",
    "from unsplash.auth import Auth\n",
    "\n",
    "client_id = os.getenv(\"CLIENT_ID\")\n",
    "client_secret = os.getenv(\"SECRET_KEY\")\n",
    "redirect_uri = os.getenv('REDIRECT_URI')\n",
    "\n",
    "auth = Auth(client_id, client_secret, redirect_uri)\n",
    "api = Api(auth)"
   ]
  },
  {
   "cell_type": "markdown",
   "metadata": {},
   "source": [
    "Try the random endpoint, the result is a single `Photo` object."
   ]
  },
  {
   "cell_type": "code",
   "execution_count": null,
   "metadata": {},
   "outputs": [],
   "source": [
    "# random returns a list of Photo objects\n",
    "photo = api.photo.random(count=1)\n",
    "photo"
   ]
  },
  {
   "cell_type": "markdown",
   "metadata": {},
   "source": [
    "A `Photo` object has a couple of interesing attributes like `tags` and `urls`. The latter can be used to visualise the photo:"
   ]
  },
  {
   "cell_type": "code",
   "execution_count": null,
   "metadata": {
    "scrolled": true
   },
   "outputs": [],
   "source": [
    "Image(url=photo[0].urls.raw) "
   ]
  },
  {
   "cell_type": "markdown",
   "metadata": {},
   "source": [
    "Photos can alsso be retrieved ussisng an id directly:"
   ]
  },
  {
   "cell_type": "code",
   "execution_count": null,
   "metadata": {},
   "outputs": [],
   "source": [
    "api.photo.get(\"N56pNPcli_0\", )"
   ]
  },
  {
   "cell_type": "markdown",
   "metadata": {},
   "source": [
    "And we can search on specific themes by supplying a query:"
   ]
  },
  {
   "cell_type": "code",
   "execution_count": null,
   "metadata": {},
   "outputs": [],
   "source": [
    "query = 'cats'\n",
    "\n",
    "photo = api.photo.random(query='cats')[0]\n",
    "Image(url=photo.urls.raw)"
   ]
  },
  {
   "cell_type": "markdown",
   "metadata": {},
   "source": [
    "We can also provide a query through the search api, but the result will not be a single picture but a page with the search results."
   ]
  },
  {
   "cell_type": "code",
   "execution_count": null,
   "metadata": {},
   "outputs": [],
   "source": [
    "api.search.photos(query)"
   ]
  },
  {
   "cell_type": "markdown",
   "metadata": {},
   "source": [
    "## Joining both together\n",
    "\n",
    "Now let's combine a text and search into one."
   ]
  },
  {
   "cell_type": "code",
   "execution_count": null,
   "metadata": {
    "scrolled": true
   },
   "outputs": [],
   "source": [
    "line = np.random.choice(lines)\n",
    "print(line)\n",
    "\n",
    "photo = api.photo.random(query = line)\n",
    "Image(url=photo[0].urls.raw) "
   ]
  },
  {
   "cell_type": "markdown",
   "metadata": {},
   "source": [
    "For our application we need to generate lists of tuples with sentence and url pairs:"
   ]
  },
  {
   "cell_type": "code",
   "execution_count": null,
   "metadata": {},
   "outputs": [],
   "source": [
    "def get_photo_url(query):\n",
    "    \"\"\"Get the url for a random picture matching the search query\"\"\"\n",
    "    photos = api.photo.random(query = query)\n",
    "    return photos[0].urls.raw \n",
    "\n",
    "def create_slide_tuples(input_sentences, count):\n",
    "    \"\"\"Draw count amount of sentences from a list of input sentences, and get stock image for each\"\"\"\n",
    "    texts = np.random.choice(input_sentences, count, replace=False)\n",
    "    image_urls = [get_photo_url(text) for text in texts]\n",
    "    return zip(texts, image_urls)"
   ]
  },
  {
   "cell_type": "code",
   "execution_count": null,
   "metadata": {},
   "outputs": [],
   "source": [
    "list(create_slide_tuples(lines, 3))"
   ]
  },
  {
   "cell_type": "markdown",
   "metadata": {},
   "source": [
    "Done."
   ]
  }
 ],
 "metadata": {
  "kernelspec": {
   "display_name": "Python 3",
   "language": "python",
   "name": "python3"
  },
  "language_info": {
   "codemirror_mode": {
    "name": "ipython",
    "version": 3
   },
   "file_extension": ".py",
   "mimetype": "text/x-python",
   "name": "python",
   "nbconvert_exporter": "python",
   "pygments_lexer": "ipython3",
   "version": "3.6.7"
  }
 },
 "nbformat": 4,
 "nbformat_minor": 2
}
