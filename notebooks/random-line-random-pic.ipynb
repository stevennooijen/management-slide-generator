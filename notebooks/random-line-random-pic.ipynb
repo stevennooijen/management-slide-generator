{
 "cells": [
  {
   "cell_type": "markdown",
   "metadata": {},
   "source": [
    "# Random line, random pic\n",
    "\n",
    "MVP product for the management slide generator!"
   ]
  },
  {
   "cell_type": "code",
   "execution_count": 1,
   "metadata": {},
   "outputs": [],
   "source": [
    "import numpy as np\n",
    "import os\n",
    "\n",
    "from IPython.display import Image"
   ]
  },
  {
   "cell_type": "code",
   "execution_count": 2,
   "metadata": {},
   "outputs": [
    {
     "data": {
      "text/plain": [
       "True"
      ]
     },
     "execution_count": 2,
     "metadata": {},
     "output_type": "execute_result"
    }
   ],
   "source": [
    "# load credentials for image APIs\n",
    "from dotenv import load_dotenv\n",
    "load_dotenv()"
   ]
  },
  {
   "cell_type": "markdown",
   "metadata": {},
   "source": [
    "## Get random sentence\n",
    "\n",
    "A matter of reading and parsing the text data"
   ]
  },
  {
   "cell_type": "code",
   "execution_count": 3,
   "metadata": {},
   "outputs": [],
   "source": [
    "with open('../data/cipsum.txt','r') as f:\n",
    "    corpus = f.read()\n",
    "\n",
    "# remove newlines, split sentences and strip leading and trailing whitespaces\n",
    "lines = [line.strip() for line in corpus.replace(\"\\n\", \"\").split('.') if line is not '']\n",
    "\n",
    "np.random.choice(lines)"
   ]
  },
  {
   "cell_type": "markdown",
   "metadata": {},
   "source": [
    "## Get random pic\n",
    "\n",
    "APIs we could use:\n",
    "* Unsplash. Stock images. Both random and based on keyword search.\n",
    "* http://lorempixel.com/. For placeholder images\n",
    "* https://loremflickr.com/\n",
    "* http://www.splashbase.co/api"
   ]
  },
  {
   "cell_type": "markdown",
   "metadata": {},
   "source": [
    "### Unsplash\n",
    "\n",
    "Let's try this one first using [`python-unsplash`](https://github.com/yakupadakli/python-unsplash) library. First set credentials.\n",
    "\n",
    "API documentation of Unsplash can be found [here](https://unsplash.com/documentation)"
   ]
  },
  {
   "cell_type": "code",
   "execution_count": 6,
   "metadata": {},
   "outputs": [],
   "source": [
    "from unsplash.api import Api\n",
    "from unsplash.auth import Auth\n",
    "\n",
    "client_id = os.getenv(\"UNSPLASH_ACCESS_KEY\")\n",
    "client_secret = os.getenv(\"UNSPLASH_SECRET_KEY\")\n",
    "redirect_uri = 'https://placegoat.com/1440/900'\n",
    "\n",
    "auth = Auth(client_id, client_secret, redirect_uri)\n",
    "api = Api(auth)"
   ]
  },
  {
   "cell_type": "markdown",
   "metadata": {},
   "source": [
    "Try the random endpoint, the result is a single `Photo` object."
   ]
  },
  {
   "cell_type": "code",
   "execution_count": 7,
   "metadata": {},
   "outputs": [
    {
     "data": {
      "text/plain": [
       "[Photo(id='DK9FVDXD2cg')]"
      ]
     },
     "execution_count": 7,
     "metadata": {},
     "output_type": "execute_result"
    }
   ],
   "source": [
    "# random returns a list of Photo objects\n",
    "photo = api.photo.random(count=1)\n",
    "photo"
   ]
  },
  {
   "cell_type": "markdown",
   "metadata": {},
   "source": [
    "A `Photo` object has a couple of interesing attributes like `tags` and `urls`. The latter can be used to visualise the photo:"
   ]
  },
  {
   "cell_type": "code",
   "execution_count": 8,
   "metadata": {
    "scrolled": true
   },
   "outputs": [
    {
     "data": {
      "text/html": [
       "<img src=\"https://images.unsplash.com/photo-1562824435-6ed8cd90bc06?ixlib=rb-1.2.1&ixid=eyJhcHBfaWQiOjgzNjY0fQ\"/>"
      ],
      "text/plain": [
       "<IPython.core.display.Image object>"
      ]
     },
     "execution_count": 8,
     "metadata": {},
     "output_type": "execute_result"
    }
   ],
   "source": [
    "Image(url=photo[0].urls.raw) "
   ]
  },
  {
   "cell_type": "markdown",
   "metadata": {},
   "source": [
    "Photos can alsso be retrieved ussisng an id directly:"
   ]
  },
  {
   "cell_type": "code",
   "execution_count": 9,
   "metadata": {},
   "outputs": [
    {
     "data": {
      "text/plain": [
       "Photo(id='N56pNPcli_0')"
      ]
     },
     "execution_count": 9,
     "metadata": {},
     "output_type": "execute_result"
    }
   ],
   "source": [
    "api.photo.get(\"N56pNPcli_0\", )"
   ]
  },
  {
   "cell_type": "markdown",
   "metadata": {},
   "source": [
    "And we can search on specific themes by supplying a query:"
   ]
  },
  {
   "cell_type": "code",
   "execution_count": 10,
   "metadata": {},
   "outputs": [
    {
     "data": {
      "text/html": [
       "<img src=\"https://images.unsplash.com/photo-1463008420065-8274332e2be8?ixlib=rb-1.2.1&ixid=eyJhcHBfaWQiOjgzNjY0fQ\"/>"
      ],
      "text/plain": [
       "<IPython.core.display.Image object>"
      ]
     },
     "execution_count": 10,
     "metadata": {},
     "output_type": "execute_result"
    }
   ],
   "source": [
    "query = 'cats'\n",
    "\n",
    "photo = api.photo.random(query='cats')[0]\n",
    "Image(url=photo.urls.raw)"
   ]
  },
  {
   "cell_type": "markdown",
   "metadata": {},
   "source": [
    "We can also provide a query through the search api, but the result will not be a single picture but a page with the search results."
   ]
  },
  {
   "cell_type": "code",
   "execution_count": 11,
   "metadata": {},
   "outputs": [
    {
     "data": {
      "text/plain": [
       "{'total': 10588,\n",
       " 'total_pages': 1059,\n",
       " 'results': [Photo(id='IbPxGLgJiMI'),\n",
       "  Photo(id='1l2waV8glIQ'),\n",
       "  Photo(id='YCPkW_r_6uA'),\n",
       "  Photo(id='R1oSj2m-7Ks'),\n",
       "  Photo(id='pdALzg0yN-8'),\n",
       "  Photo(id='Qpjl_dXQrD8'),\n",
       "  Photo(id='sDpmnfv-KRk'),\n",
       "  Photo(id='7GX5aICb5i4'),\n",
       "  Photo(id='M09u6YVv0k4'),\n",
       "  Photo(id='LEpfefQf4rU')]}"
      ]
     },
     "execution_count": 11,
     "metadata": {},
     "output_type": "execute_result"
    }
   ],
   "source": [
    "api.search.photos(query)"
   ]
  },
  {
   "cell_type": "markdown",
   "metadata": {},
   "source": [
    "## Joining both together\n",
    "\n",
    "Now let's combine a text and search into one."
   ]
  },
  {
   "cell_type": "code",
   "execution_count": 12,
   "metadata": {
    "scrolled": true
   },
   "outputs": [
    {
     "name": "stdout",
     "output_type": "stream",
     "text": [
      "Holisticly predominate extensible testing procedures for reliable supply chains\n"
     ]
    },
    {
     "data": {
      "text/html": [
       "<img src=\"https://images.unsplash.com/photo-1520359319979-f360d010d777?ixlib=rb-1.2.1&ixid=eyJhcHBfaWQiOjgzNjY0fQ\"/>"
      ],
      "text/plain": [
       "<IPython.core.display.Image object>"
      ]
     },
     "execution_count": 12,
     "metadata": {},
     "output_type": "execute_result"
    }
   ],
   "source": [
    "line = np.random.choice(lines)\n",
    "print(line)\n",
    "\n",
    "photo = api.photo.random(query = line)\n",
    "Image(url=photo[0].urls.raw) "
   ]
  },
  {
   "cell_type": "markdown",
   "metadata": {},
   "source": [
    "For our application we need to generate lists of tuples with sentence and url pairs:"
   ]
  },
  {
   "cell_type": "code",
   "execution_count": 13,
   "metadata": {},
   "outputs": [],
   "source": [
    "def get_photo_url(query):\n",
    "    \"\"\"Get the url for a random picture matching the search query\"\"\"\n",
    "    photos = api.photo.random(query = query)\n",
    "    return photos[0].urls.raw \n",
    "\n",
    "def create_slide_tuples(input_sentences, count):\n",
    "    \"\"\"Draw count amount of sentences from a list of input sentences, and get stock image for each\"\"\"\n",
    "    texts = np.random.choice(input_sentences, count, replace=False)\n",
    "    image_urls = [get_photo_url(text) for text in texts]\n",
    "    return zip(texts, image_urls)"
   ]
  },
  {
   "cell_type": "code",
   "execution_count": 14,
   "metadata": {},
   "outputs": [
    {
     "data": {
      "text/plain": [
       "[('Holisticly predominate extensible testing procedures for reliable supply chains',\n",
       "  'https://images.unsplash.com/photo-1464699908537-0954e50791ee?ixlib=rb-1.2.1&ixid=eyJhcHBfaWQiOjgzNjY0fQ'),\n",
       " ('Nanotechnology immersion along the information highway will close the loop on focusing solely on the bottom line',\n",
       "  'https://images.unsplash.com/photo-1552476536-812d56464447?ixlib=rb-1.2.1&ixid=eyJhcHBfaWQiOjgzNjY0fQ'),\n",
       " ('Dynamically reinvent market-driven opportunities and ubiquitous interfaces',\n",
       "  'https://images.unsplash.com/photo-1542071910-d36d1cbc379a?ixlib=rb-1.2.1&ixid=eyJhcHBfaWQiOjgzNjY0fQ')]"
      ]
     },
     "execution_count": 14,
     "metadata": {},
     "output_type": "execute_result"
    }
   ],
   "source": [
    "list(create_slide_tuples(lines, 3))"
   ]
  },
  {
   "cell_type": "markdown",
   "metadata": {},
   "source": [
    "# Push"
   ]
  },
  {
   "cell_type": "code",
   "execution_count": 15,
   "metadata": {},
   "outputs": [],
   "source": [
    "import requests"
   ]
  },
  {
   "cell_type": "markdown",
   "metadata": {},
   "source": [
    "Done."
   ]
  }
 ],
 "metadata": {
  "kernelspec": {
   "display_name": "Python 3",
   "language": "python",
   "name": "python3"
  },
  "language_info": {
   "codemirror_mode": {
    "name": "ipython",
    "version": 3
   },
   "file_extension": ".py",
   "mimetype": "text/x-python",
   "name": "python",
   "nbconvert_exporter": "python",
   "pygments_lexer": "ipython3",
   "version": "3.7.3"
  },
  "toc": {
   "base_numbering": 1,
   "nav_menu": {},
   "number_sections": true,
   "sideBar": true,
   "skip_h1_title": false,
   "title_cell": "Table of Contents",
   "title_sidebar": "Contents",
   "toc_cell": false,
   "toc_position": {},
   "toc_section_display": true,
   "toc_window_display": false
  }
 },
 "nbformat": 4,
 "nbformat_minor": 2
}
